{
  "nbformat": 4,
  "nbformat_minor": 0,
  "metadata": {
    "colab": {
      "provenance": [],
      "authorship_tag": "ABX9TyMkVHm9k/nXxP3mxjOc+Yp9",
      "include_colab_link": true
    },
    "kernelspec": {
      "name": "python3",
      "display_name": "Python 3"
    },
    "language_info": {
      "name": "python"
    }
  },
  "cells": [
    {
      "cell_type": "markdown",
      "metadata": {
        "id": "view-in-github",
        "colab_type": "text"
      },
      "source": [
        "<a href=\"https://colab.research.google.com/github/Kaustubh-20/ML_Practice/blob/main/KNN.ipynb\" target=\"_parent\"><img src=\"https://colab.research.google.com/assets/colab-badge.svg\" alt=\"Open In Colab\"/></a>"
      ]
    },
    {
      "cell_type": "code",
      "execution_count": null,
      "metadata": {
        "id": "XvXM6weyGb66"
      },
      "outputs": [],
      "source": [
        "import numpy as np\n",
        "from math import sqrt\n",
        "import matplotlib.pyplot as plt\n",
        "import warnings\n",
        "from matplotlib import style\n",
        "from collections import Counter\n",
        "style.use('fivethirtyeight')"
      ]
    },
    {
      "cell_type": "code",
      "source": [
        "dataset = {'k':[[1,2], [2,3], [3,1]], 'r': [[6,5], [7,7], [8,6]]}\n",
        "new_feature = [5,7]"
      ],
      "metadata": {
        "id": "RhJpw9RkS9qw"
      },
      "execution_count": null,
      "outputs": []
    },
    {
      "cell_type": "code",
      "source": [
        "def k_nearest_neighbours(data, predict, k=3):\n",
        "  if len(data) >= k:\n",
        "    warnings.warn(\"K is set to a value less than total voting groups\")\n",
        "  distances = []\n",
        "  for group in data:\n",
        "    for features in data[group]:\n",
        "      # euclidean_distance = np.sqrt(np.sum((np.array(features)-np.array(predict))**2))\n",
        "      euclidean_distance = np.linalg.norm(np.array(features)-np.array(predict))\n",
        "      distances.append([euclidean_distance, group])\n",
        "\n",
        "  votes = [i[1] for i in sorted(distances)[:k]]\n",
        "  print(Counter(votes).most_common(1))\n",
        "  vote_result = Counter(votes).most_common(1)[0][0]\n",
        "\n",
        "  return vote_result\n"
      ],
      "metadata": {
        "id": "CRVbxtB0U7PD"
      },
      "execution_count": null,
      "outputs": []
    },
    {
      "cell_type": "code",
      "source": [
        "result = k_nearest_neighbours(dataset, new_feature, k=3)\n",
        "print(result)"
      ],
      "metadata": {
        "colab": {
          "base_uri": "https://localhost:8080/"
        },
        "id": "wPwNY2OpZkuF",
        "outputId": "72b2395d-3865-4ee5-c60a-24118fa03f10"
      },
      "execution_count": null,
      "outputs": [
        {
          "output_type": "stream",
          "name": "stdout",
          "text": [
            "[('r', 3)]\n",
            "r\n"
          ]
        }
      ]
    },
    {
      "cell_type": "code",
      "source": [
        "for i in dataset:\n",
        "  for j in dataset[i]:\n",
        "    plt.scatter(j[0], j[1], s=100, color=i)\n",
        "    plt.scatter(new_feature[0], new_feature[1], s=40, color = result)"
      ],
      "metadata": {
        "colab": {
          "base_uri": "https://localhost:8080/",
          "height": 449
        },
        "id": "EGYsb59Yg19f",
        "outputId": "ee775220-975e-4380-a3b1-57de9866bec9"
      },
      "execution_count": null,
      "outputs": [
        {
          "output_type": "display_data",
          "data": {
            "text/plain": [
              "<Figure size 640x480 with 1 Axes>"
            ],
            "image/png": "[encoded data removed]"
          },
          "metadata": {}
        }
      ]
    }
  ]
}