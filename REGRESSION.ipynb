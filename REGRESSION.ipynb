{
  "cells": [
    {
      "cell_type": "markdown",
      "metadata": {
        "id": "view-in-github",
        "colab_type": "text"
      },
      "source": [
        "<a href=\"https://colab.research.google.com/github/Kaustubh-20/ML_Practice/blob/main/REGRESSION.ipynb\" target=\"_parent\"><img src=\"https://colab.research.google.com/assets/colab-badge.svg\" alt=\"Open In Colab\"/></a>"
      ]
    },
    {
      "cell_type": "markdown",
      "source": [
        "Importing the libraries"
      ],
      "metadata": {
        "id": "UhyP6KPtGbRH"
      }
    },
    {
      "cell_type": "code",
      "source": [
        "import numpy as np\n",
        "import pandas as pd\n",
        "import matplotlib.pyplot as plt\n",
        "from sklearn.preprocessing import PolynomialFeatures\n",
        "from sklearn.linear_model import LinearRegression\n",
        "from sklearn.pipeline import make_pipeline"
      ],
      "metadata": {
        "id": "bHlKF_xzGWiR"
      },
      "execution_count": null,
      "outputs": []
    },
    {
      "cell_type": "markdown",
      "source": [
        "Creating data points in the form of numpy array"
      ],
      "metadata": {
        "id": "_xbqsfhYGcln"
      }
    },
    {
      "cell_type": "code",
      "source": [
        "# Expanded data points\n",
        "X = np.array([\n",
        "    [1, 2], [2, 3], [3, 4], [4, 5], [5, 6],\n",
        "    [6, 7], [7, 8], [8, 9], [9, 10], [10, 11]\n",
        "])\n",
        "\n",
        "Y1 = np.array([3, 8, 11, 8, 3, 0, -3, -4, -3, 0])  # Nonlinear relationship for Y1\n",
        "Y2 = np.array([2, 5, 6, 5, 2, 1, 0, -1, -2, -3])  # Nonlinear relationship for Y2 `"
      ],
      "metadata": {
        "id": "2kOeY9s6GfhN"
      },
      "execution_count": null,
      "outputs": []
    },
    {
      "cell_type": "markdown",
      "source": [
        "Converting numpy array into pandas dataframe"
      ],
      "metadata": {
        "id": "hkwCjr9qGkpm"
      }
    },
    {
      "cell_type": "code",
      "source": [
        "# Create a DataFrame to display the data points\n",
        "data = pd.DataFrame({'X1': X[:, 0], 'X2': X[:, 1], 'Y1': Y1, 'Y2': Y2})"
      ],
      "metadata": {
        "id": "S7WOC8R2GnGx"
      },
      "execution_count": null,
      "outputs": []
    },
    {
      "cell_type": "code",
      "source": [
        "# Print the data in table format\n",
        "print(data)"
      ],
      "metadata": {
        "colab": {
          "base_uri": "https://localhost:8080/"
        },
        "id": "wDds6CQqGqJI",
        "outputId": "2f8a47eb-e875-4068-bd93-ed77cfeb409f"
      },
      "execution_count": null,
      "outputs": [
        {
          "output_type": "stream",
          "name": "stdout",
          "text": [
            "   X1  X2  Y1  Y2\n",
            "0   1   2   3   2\n",
            "1   2   3   8   5\n",
            "2   3   4  11   6\n",
            "3   4   5   8   5\n",
            "4   5   6   3   2\n",
            "5   6   7   0   1\n",
            "6   7   8  -3   0\n",
            "7   8   9  -4  -1\n",
            "8   9  10  -3  -2\n",
            "9  10  11   0  -3\n"
          ]
        }
      ]
    },
    {
      "cell_type": "markdown",
      "source": [
        "**We assume that there isnt any linear relationship between them**"
      ],
      "metadata": {
        "id": "e2l1zJot11OP"
      }
    },
    {
      "cell_type": "code",
      "source": [
        "# Create polynomial regression models to capture non-linearity\n",
        "degree = 2  # You can adjust this to make the regression more or less nonlinear\n",
        "polyreg_Y1 = make_pipeline(PolynomialFeatures(degree), LinearRegression())\n",
        "polyreg_Y2 = make_pipeline(PolynomialFeatures(degree), LinearRegression())"
      ],
      "metadata": {
        "id": "-MJYE49MGuIA"
      },
      "execution_count": null,
      "outputs": []
    },
    {
      "cell_type": "markdown",
      "source": [
        "**DEGREE = 2 STANDS FOR QUADRATIC FUNCTIONS**\n",
        "\n",
        "**Higher the degree lesser the linearity**"
      ],
      "metadata": {
        "id": "WTgzVbMa3RbP"
      }
    },
    {
      "cell_type": "code",
      "source": [
        "# Fit the models\n",
        "polyreg_Y1.fit(X, Y1)\n",
        "polyreg_Y2.fit(X, Y2)"
      ],
      "metadata": {
        "colab": {
          "base_uri": "https://localhost:8080/",
          "height": 124
        },
        "id": "EnJD7QWxGwfD",
        "outputId": "7c72cafd-3fcd-41b3-db54-e00d929a1963"
      },
      "execution_count": null,
      "outputs": [
        {
          "output_type": "execute_result",
          "data": {
            "text/plain": [
              "Pipeline(steps=[('polynomialfeatures', PolynomialFeatures()),\n",
              "                ('linearregression', LinearRegression())])"
            ],
            "text/html": [
              "<style>#sk-container-id-1 {color: black;background-color: white;}#sk-container-id-1 pre{padding: 0;}#sk-container-id-1 div.sk-toggleable {background-color: white;}#sk-container-id-1 label.sk-toggleable__label {cursor: pointer;display: block;width: 100%;margin-bottom: 0;padding: 0.3em;box-sizing: border-box;text-align: center;}#sk-container-id-1 label.sk-toggleable__label-arrow:before {content: \"▸\";float: left;margin-right: 0.25em;color: #696969;}#sk-container-id-1 label.sk-toggleable__label-arrow:hover:before {color: black;}#sk-container-id-1 div.sk-estimator:hover label.sk-toggleable__label-arrow:before {color: black;}#sk-container-id-1 div.sk-toggleable__content {max-height: 0;max-width: 0;overflow: hidden;text-align: left;background-color: #f0f8ff;}#sk-container-id-1 div.sk-toggleable__content pre {margin: 0.2em;color: black;border-radius: 0.25em;background-color: #f0f8ff;}#sk-container-id-1 input.sk-toggleable__control:checked~div.sk-toggleable__content {max-height: 200px;max-width: 100%;overflow: auto;}#sk-container-id-1 input.sk-toggleable__control:checked~label.sk-toggleable__label-arrow:before {content: \"▾\";}#sk-container-id-1 div.sk-estimator input.sk-toggleable__control:checked~label.sk-toggleable__label {background-color: #d4ebff;}#sk-container-id-1 div.sk-label input.sk-toggleable__control:checked~label.sk-toggleable__label {background-color: #d4ebff;}#sk-container-id-1 input.sk-hidden--visually {border: 0;clip: rect(1px 1px 1px 1px);clip: rect(1px, 1px, 1px, 1px);height: 1px;margin: -1px;overflow: hidden;padding: 0;position: absolute;width: 1px;}#sk-container-id-1 div.sk-estimator {font-family: monospace;background-color: #f0f8ff;border: 1px dotted black;border-radius: 0.25em;box-sizing: border-box;margin-bottom: 0.5em;}#sk-container-id-1 div.sk-estimator:hover {background-color: #d4ebff;}#sk-container-id-1 div.sk-parallel-item::after {content: \"\";width: 100%;border-bottom: 1px solid gray;flex-grow: 1;}#sk-container-id-1 div.sk-label:hover label.sk-toggleable__label {background-color: #d4ebff;}#sk-container-id-1 div.sk-serial::before {content: \"\";position: absolute;border-left: 1px solid gray;box-sizing: border-box;top: 0;bottom: 0;left: 50%;z-index: 0;}#sk-container-id-1 div.sk-serial {display: flex;flex-direction: column;align-items: center;background-color: white;padding-right: 0.2em;padding-left: 0.2em;position: relative;}#sk-container-id-1 div.sk-item {position: relative;z-index: 1;}#sk-container-id-1 div.sk-parallel {display: flex;align-items: stretch;justify-content: center;background-color: white;position: relative;}#sk-container-id-1 div.sk-item::before, #sk-container-id-1 div.sk-parallel-item::before {content: \"\";position: absolute;border-left: 1px solid gray;box-sizing: border-box;top: 0;bottom: 0;left: 50%;z-index: -1;}#sk-container-id-1 div.sk-parallel-item {display: flex;flex-direction: column;z-index: 1;position: relative;background-color: white;}#sk-container-id-1 div.sk-parallel-item:first-child::after {align-self: flex-end;width: 50%;}#sk-container-id-1 div.sk-parallel-item:last-child::after {align-self: flex-start;width: 50%;}#sk-container-id-1 div.sk-parallel-item:only-child::after {width: 0;}#sk-container-id-1 div.sk-dashed-wrapped {border: 1px dashed gray;margin: 0 0.4em 0.5em 0.4em;box-sizing: border-box;padding-bottom: 0.4em;background-color: white;}#sk-container-id-1 div.sk-label label {font-family: monospace;font-weight: bold;display: inline-block;line-height: 1.2em;}#sk-container-id-1 div.sk-label-container {text-align: center;}#sk-container-id-1 div.sk-container {/* jupyter's `normalize.less` sets `[hidden] { display: none; }` but bootstrap.min.css set `[hidden] { display: none !important; }` so we also need the `!important` here to be able to override the default hidden behavior on the sphinx rendered scikit-learn.org. See: https://github.com/scikit-learn/scikit-learn/issues/21755 */display: inline-block !important;position: relative;}#sk-container-id-1 div.sk-text-repr-fallback {display: none;}</style><div id=\"sk-container-id-1\" class=\"sk-top-container\"><div class=\"sk-text-repr-fallback\"><pre>Pipeline(steps=[(&#x27;polynomialfeatures&#x27;, PolynomialFeatures()),\n",
              "                (&#x27;linearregression&#x27;, LinearRegression())])</pre><b>In a Jupyter environment, please rerun this cell to show the HTML representation or trust the notebook. <br />On GitHub, the HTML representation is unable to render, please try loading this page with nbviewer.org.</b></div><div class=\"sk-container\" hidden><div class=\"sk-item sk-dashed-wrapped\"><div class=\"sk-label-container\"><div class=\"sk-label sk-toggleable\"><input class=\"sk-toggleable__control sk-hidden--visually\" id=\"sk-estimator-id-1\" type=\"checkbox\" ><label for=\"sk-estimator-id-1\" class=\"sk-toggleable__label sk-toggleable__label-arrow\">Pipeline</label><div class=\"sk-toggleable__content\"><pre>Pipeline(steps=[(&#x27;polynomialfeatures&#x27;, PolynomialFeatures()),\n",
              "                (&#x27;linearregression&#x27;, LinearRegression())])</pre></div></div></div><div class=\"sk-serial\"><div class=\"sk-item\"><div class=\"sk-estimator sk-toggleable\"><input class=\"sk-toggleable__control sk-hidden--visually\" id=\"sk-estimator-id-2\" type=\"checkbox\" ><label for=\"sk-estimator-id-2\" class=\"sk-toggleable__label sk-toggleable__label-arrow\">PolynomialFeatures</label><div class=\"sk-toggleable__content\"><pre>PolynomialFeatures()</pre></div></div></div><div class=\"sk-item\"><div class=\"sk-estimator sk-toggleable\"><input class=\"sk-toggleable__control sk-hidden--visually\" id=\"sk-estimator-id-3\" type=\"checkbox\" ><label for=\"sk-estimator-id-3\" class=\"sk-toggleable__label sk-toggleable__label-arrow\">LinearRegression</label><div class=\"sk-toggleable__content\"><pre>LinearRegression()</pre></div></div></div></div></div></div></div>"
            ]
          },
          "metadata": {},
          "execution_count": 6
        }
      ]
    },
    {
      "cell_type": "code",
      "source": [
        "# Hardcoded test data for prediction\n",
        "X_test = np.array([[6, 7], [7, 8], [8, 9]])"
      ],
      "metadata": {
        "id": "vuixmrXOGzER"
      },
      "execution_count": null,
      "outputs": []
    },
    {
      "cell_type": "code",
      "source": [
        "# Predict the values for the test data\n",
        "Y1_pred = polyreg_Y1.predict(X_test)\n",
        "Y2_pred = polyreg_Y2.predict(X_test)"
      ],
      "metadata": {
        "id": "CJn9ChSRG1Xs"
      },
      "execution_count": null,
      "outputs": []
    },
    {
      "cell_type": "code",
      "source": [
        "plt.subplot(1, 2, 2)\n",
        "plt.scatter(X[:, 0], Y2, label='Y2 Data', color='g')\n",
        "plt.plot(X[:, 0], polyreg_Y2.predict(X), label='Y2 Prediction', color='m')\n",
        "plt.xlabel('X1')\n",
        "plt.ylabel('Y2')\n",
        "plt.legend()"
      ],
      "metadata": {
        "colab": {
          "base_uri": "https://localhost:8080/",
          "height": 466
        },
        "id": "SI2nLddeG3Pl",
        "outputId": "34fab1db-2c77-46fe-b0d6-94d72090b780"
      },
      "execution_count": null,
      "outputs": [
        {
          "output_type": "execute_result",
          "data": {
            "text/plain": [
              "<matplotlib.legend.Legend at 0x7cb54f125c00>"
            ]
          },
          "metadata": {},
          "execution_count": 9
        },
        {
          "output_type": "display_data",
          "data": {
            "text/plain": [
              "<Figure size 640x480 with 1 Axes>"
            ],
            "image/png": "[encoded data removed]"
          },
          "metadata": {}
        }
      ]
    },
    {
      "cell_type": "markdown",
      "metadata": {
        "id": "OEIqLleT5mlR"
      },
      "source": [
        "# **ASSESSMENT**"
      ]
    },
    {
      "cell_type": "markdown",
      "metadata": {
        "id": "6MsPL7_L7Q-h"
      },
      "source": [
        "\n",
        "1)Multivariate nonlinear regression is a statistical method used to model the relationships between multiple independent variables and many dependent variables when the relationship is nonlinear . It is an extension of multivariate linear regression, which assumes that the relationship between the variables is linear.\n",
        "\n",
        "2)In nonlinear regression, we use nonlinear functions to model the relationship between the independent variables and the dependent variable. These functions can take many forms, such as exponential, logarithmic, or power functions.\n",
        "\n",
        "3)The goal of multivariate nonlinear regression is to find the values of the model coefficients that best fit the data. This is done by minimizing the sum of the squared differences between the predicted values and the actual values.\n",
        "\n",
        "4)Linear regression is a subset of polynomial regression, as linear regression is just polynomial regression in the first order.\n",
        "\n",
        "5)A simple linear regression model will fit the data as the data is linearly corelated\n",
        "\n",
        "6)It is a bivariate linear model. A bivariate model is a statistical model that focuses on the relationship between two variables. It examines how changes in one variable are associated with changes in another, typically through methods like correlation analysis or simple linear regression. Bivariate models are used to understand and quantify the strength and direction of the relationship between these two variables."
      ]
    }
  ],
  "metadata": {
    "colab": {
      "provenance": [],
      "include_colab_link": true
    },
    "kernelspec": {
      "display_name": "Python 3",
      "name": "python3"
    },
    "language_info": {
      "name": "python"
    }
  },
  "nbformat": 4,
  "nbformat_minor": 0
}