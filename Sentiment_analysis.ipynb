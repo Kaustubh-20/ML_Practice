{
  "cells": [
    {
      "cell_type": "markdown",
      "metadata": {
        "id": "view-in-github",
        "colab_type": "text"
      },
      "source": [
        "<a href=\"https://colab.research.google.com/github/Kaustubh-20/ML_Practice/blob/main/Sentiment_analysis.ipynb\" target=\"_parent\"><img src=\"https://colab.research.google.com/assets/colab-badge.svg\" alt=\"Open In Colab\"/></a>"
      ]
    },
    {
      "cell_type": "code",
      "execution_count": null,
      "metadata": {
        "colab": {
          "base_uri": "https://localhost:8080/"
        },
        "id": "6jQkyCFNLiiH",
        "outputId": "9c8052a1-7bab-4337-f2c8-a94d62695fc2"
      },
      "outputs": [
        {
          "name": "stderr",
          "output_type": "stream",
          "text": [
            "[nltk_data] Downloading package punkt to /root/nltk_data...\n",
            "[nltk_data]   Unzipping tokenizers/punkt.zip.\n",
            "[nltk_data] Downloading package stopwords to /root/nltk_data...\n",
            "[nltk_data]   Unzipping corpora/stopwords.zip.\n",
            "[nltk_data] Downloading package wordnet to /root/nltk_data...\n"
          ]
        }
      ],
      "source": [
        "\n",
        "import numpy as np\n",
        "import pandas as pd\n",
        "import matplotlib.pyplot as plt\n",
        "import seaborn as sns\n",
        "import plotly.express as px\n",
        "import plotly.graph_objects as go\n",
        "import re\n",
        "import string\n",
        "import nltk\n",
        "nltk.download('punkt')\n",
        "nltk.download('stopwords')\n",
        "nltk.download('wordnet')\n",
        "from nltk.tokenize import word_tokenize\n",
        "from nltk.stem import PorterStemmer\n",
        "from nltk.corpus import stopwords\n",
        "from nltk.stem import WordNetLemmatizer"
      ]
    },
    {
      "cell_type": "code",
      "execution_count": null,
      "metadata": {
        "id": "I8OnqjOMMewC"
      },
      "outputs": [],
      "source": [
        "dataset = pd.read_csv('/content/IPL2020_Tweets.csv')"
      ]
    },
    {
      "cell_type": "code",
      "execution_count": null,
      "metadata": {
        "colab": {
          "base_uri": "https://localhost:8080/"
        },
        "id": "_BapGa57MfMr",
        "outputId": "af911fd1-2447-46bc-f114-c3559075e739"
      },
      "outputs": [
        {
          "data": {
            "text/plain": [
              "(88875, 15)"
            ]
          },
          "execution_count": 5,
          "metadata": {},
          "output_type": "execute_result"
        }
      ],
      "source": [
        "\n",
        "dataset.shape"
      ]
    },
    {
      "cell_type": "code",
      "execution_count": null,
      "metadata": {
        "colab": {
          "base_uri": "https://localhost:8080/"
        },
        "id": "7xHN2UIvNvxI",
        "outputId": "a40c14bb-a15a-4d39-f87c-c839703515d2"
      },
      "outputs": [
        {
          "data": {
            "text/plain": [
              "Index(['user_name', 'user_location', 'user_description', 'user_created',\n",
              "       'user_followers', 'user_friends', 'user_favourites', 'user_verified',\n",
              "       'date', 'text', 'hashtags', 'source', 'is_retweet', 'month', 'year'],\n",
              "      dtype='object')"
            ]
          },
          "execution_count": 6,
          "metadata": {},
          "output_type": "execute_result"
        }
      ],
      "source": [
        "\n",
        "dataset.columns"
      ]
    },
    {
      "cell_type": "code",
      "execution_count": null,
      "metadata": {
        "colab": {
          "base_uri": "https://localhost:8080/",
          "height": 469
        },
        "id": "0iAvBkKSNz34",
        "outputId": "c052c0e1-d126-4f1f-9e00-813ccaa155b9"
      },
      "outputs": [
        {
          "data": {
            "application/vnd.google.colaboratory.intrinsic+json": {
              "summary": "{\n  \"name\": \"dataset\",\n  \"rows\": 88875,\n  \"fields\": [\n    {\n      \"column\": \"user_name\",\n      \"properties\": {\n        \"dtype\": \"category\",\n        \"num_unique_values\": 27082,\n        \"samples\": [\n          \"Nikita Sharma\",\n          \"Ameya - wear a \\ud83d\\ude37\",\n          \"Amrutha Nair\"\n        ],\n        \"semantic_type\": \"\",\n        \"description\": \"\"\n      }\n    },\n    {\n      \"column\": \"user_location\",\n      \"properties\": {\n        \"dtype\": \"category\",\n        \"num_unique_values\": 7001,\n        \"samples\": [\n          \"All sports\",\n          \"Patiala, India\",\n          \"Nayagarh, India\"\n        ],\n        \"semantic_type\": \"\",\n        \"description\": \"\"\n      }\n    },\n    {\n      \"column\": \"user_description\",\n      \"properties\": {\n        \"dtype\": \"category\",\n        \"num_unique_values\": 25129,\n        \"samples\": [\n          \"#TechMarketing, #TME, #Optimist,#Cricketenthusiast,#Thinker.....#Shocker!\",\n          \"First DEX for Fantasy Stocks Trading on the blockchain using Fractional NFTs + DeFi Gamification. Telegram: https://t.co/P0b9EmjvIf\",\n          \"Forest range officer#proud indian#dogra #jamwallion_rajput#\"\n        ],\n        \"semantic_type\": \"\",\n        \"description\": \"\"\n      }\n    },\n    {\n      \"column\": \"user_created\",\n      \"properties\": {\n        \"dtype\": \"object\",\n        \"num_unique_values\": 28398,\n        \"samples\": [\n          \"23/09/20 4:04\",\n          \"15/10/16 12:53\",\n          \"03/07/16 14:40\"\n        ],\n        \"semantic_type\": \"\",\n        \"description\": \"\"\n      }\n    },\n    {\n      \"column\": \"user_followers\",\n      \"properties\": {\n        \"dtype\": \"number\",\n        \"std\": 827925.2299943196,\n        \"min\": 0.0,\n        \"max\": 34444598.0,\n        \"num_unique_values\": 7499,\n        \"samples\": [\n          4937269.0,\n          432303.0,\n          1486.0\n        ],\n        \"semantic_type\": \"\",\n        \"description\": \"\"\n      }\n    },\n    {\n      \"column\": \"user_friends\",\n      \"properties\": {\n        \"dtype\": \"number\",\n        \"std\": 1976.37336544274,\n        \"min\": 0.0,\n        \"max\": 309144.0,\n        \"num_unique_values\": 3423,\n        \"samples\": [\n          1168.0,\n          4732.0,\n          21569.0\n        ],\n        \"semantic_type\": \"\",\n        \"description\": \"\"\n      }\n    },\n    {\n      \"column\": \"user_favourites\",\n      \"properties\": {\n        \"dtype\": \"number\",\n        \"std\": 30403.39968141035,\n        \"min\": 0.0,\n        \"max\": 1027918.0,\n        \"num_unique_values\": 17897,\n        \"samples\": [\n          15714.0,\n          11242.0,\n          21036.0\n        ],\n        \"semantic_type\": \"\",\n        \"description\": \"\"\n      }\n    },\n    {\n      \"column\": \"user_verified\",\n      \"properties\": {\n        \"dtype\": \"boolean\",\n        \"num_unique_values\": 2,\n        \"samples\": [\n          true,\n          false\n        ],\n        \"semantic_type\": \"\",\n        \"description\": \"\"\n      }\n    },\n    {\n      \"column\": \"date\",\n      \"properties\": {\n        \"dtype\": \"object\",\n        \"num_unique_values\": 12,\n        \"samples\": [\n          \"2020-10-27\",\n          \"2020-11-02\"\n        ],\n        \"semantic_type\": \"\",\n        \"description\": \"\"\n      }\n    },\n    {\n      \"column\": \"text\",\n      \"properties\": {\n        \"dtype\": \"string\",\n        \"num_unique_values\": 88562,\n        \"samples\": [\n          \"@SunRisers Excellent fightback guys\\ud83d\\udd25\\ud83d\\udd25\\n\\nLong way to go @ABDULSAMAD___1 \\n@NotNossy @davidwarner31 @sandeep25a\\u2026 https://t.co/WiWyyc2rwx\",\n          \"Today's innings from Kane Williamson showcased class over pace! Such grace in his play \\ud83c\\udfcf\\ud83d\\udc9b\\n\\nYou were the rockstar of\\u2026 https://t.co/9q5eHSZrev\"\n        ],\n        \"semantic_type\": \"\",\n        \"description\": \"\"\n      }\n    },\n    {\n      \"column\": \"hashtags\",\n      \"properties\": {\n        \"dtype\": \"category\",\n        \"num_unique_values\": 23772,\n        \"samples\": [\n          \"['orange', 'purple']\",\n          \"['IPL2020', 'IPL2021', 'KKRHaiTaiyaar', 'KKR', 'SRHvMI']\"\n        ],\n        \"semantic_type\": \"\",\n        \"description\": \"\"\n      }\n    },\n    {\n      \"column\": \"source\",\n      \"properties\": {\n        \"dtype\": \"category\",\n        \"num_unique_values\": 87,\n        \"samples\": [\n          \"Echobox\",\n          \"Twitter for iPhone\"\n        ],\n        \"semantic_type\": \"\",\n        \"description\": \"\"\n      }\n    },\n    {\n      \"column\": \"is_retweet\",\n      \"properties\": {\n        \"dtype\": \"category\",\n        \"num_unique_values\": 1,\n        \"samples\": [\n          false\n        ],\n        \"semantic_type\": \"\",\n        \"description\": \"\"\n      }\n    },\n    {\n      \"column\": \"month\",\n      \"properties\": {\n        \"dtype\": \"number\",\n        \"std\": 0.29366630289738416,\n        \"min\": 10.0,\n        \"max\": 11.0,\n        \"num_unique_values\": 2,\n        \"samples\": [\n          10.0\n        ],\n        \"semantic_type\": \"\",\n        \"description\": \"\"\n      }\n    },\n    {\n      \"column\": \"year\",\n      \"properties\": {\n        \"dtype\": \"number\",\n        \"std\": 0.0,\n        \"min\": 2020.0,\n        \"max\": 2020.0,\n        \"num_unique_values\": 1,\n        \"samples\": [\n          2020.0\n        ],\n        \"semantic_type\": \"\",\n        \"description\": \"\"\n      }\n    }\n  ]\n}",
              "type": "dataframe",
              "variable_name": "dataset"
            },
            "text/html": [
              "\n",
              "  <div id=\"df-c6e8ec1e-e314-45ee-ae9f-303193eb5e97\" class=\"colab-df-container\">\n",
              "    <div>\n",
              "<style scoped>\n",
              "    .dataframe tbody tr th:only-of-type {\n",
              "        vertical-align: middle;\n",
              "    }\n",
              "\n",
              "    .dataframe tbody tr th {\n",
              "        vertical-align: top;\n",
              "    }\n",
              "\n",
              "    .dataframe thead th {\n",
              "        text-align: right;\n",
              "    }\n",
              "</style>\n",
              "<table border=\"1\" class=\"dataframe\">\n",
              "  <thead>\n",
              "    <tr style=\"text-align: right;\">\n",
              "      <th></th>\n",
              "      <th>user_name</th>\n",
              "      <th>user_location</th>\n",
              "      <th>user_description</th>\n",
              "      <th>user_created</th>\n",
              "      <th>user_followers</th>\n",
              "      <th>user_friends</th>\n",
              "      <th>user_favourites</th>\n",
              "      <th>user_verified</th>\n",
              "      <th>date</th>\n",
              "      <th>text</th>\n",
              "      <th>hashtags</th>\n",
              "      <th>source</th>\n",
              "      <th>is_retweet</th>\n",
              "      <th>month</th>\n",
              "      <th>year</th>\n",
              "    </tr>\n",
              "  </thead>\n",
              "  <tbody>\n",
              "    <tr>\n",
              "      <th>0</th>\n",
              "      <td>GAURAV DHANAWAT 🇮🇳</td>\n",
              "      <td>Delhi,India</td>\n",
              "      <td>Live EVS Operator/Coordinator | EX Ten Sports ...</td>\n",
              "      <td>02/04/09 17:06</td>\n",
              "      <td>147.0</td>\n",
              "      <td>127.0</td>\n",
              "      <td>205.0</td>\n",
              "      <td>False</td>\n",
              "      <td>2020-11-11</td>\n",
              "      <td>Time to change the Bubble from #IPL2020 to #IS...</td>\n",
              "      <td>['IPL2020', 'ISL2020']</td>\n",
              "      <td>Twitter for iPhone</td>\n",
              "      <td>False</td>\n",
              "      <td>11.0</td>\n",
              "      <td>2020.0</td>\n",
              "    </tr>\n",
              "    <tr>\n",
              "      <th>1</th>\n",
              "      <td>🇮🇳🇮🇳 शुभम दोहरे 🇮🇳🇮🇳</td>\n",
              "      <td>Bhopal, India</td>\n",
              "      <td>👉💯%Bhopali😎\\n👉B+🔥\\n👉Proud to be an #indian🇮🇳\\n...</td>\n",
              "      <td>10/11/16 5:09</td>\n",
              "      <td>113.0</td>\n",
              "      <td>699.0</td>\n",
              "      <td>1412.0</td>\n",
              "      <td>False</td>\n",
              "      <td>2020-11-11</td>\n",
              "      <td>Why is #2020Fixing trending?? \\n\\nI think rcb ...</td>\n",
              "      <td>['2020Fixing']</td>\n",
              "      <td>Twitter for Android</td>\n",
              "      <td>False</td>\n",
              "      <td>11.0</td>\n",
              "      <td>2020.0</td>\n",
              "    </tr>\n",
              "    <tr>\n",
              "      <th>2</th>\n",
              "      <td>Steven Gordon</td>\n",
              "      <td>Carrickfergus, Northern Irelan</td>\n",
              "      <td>Buns are good but puns are better, best served...</td>\n",
              "      <td>03/04/13 15:03</td>\n",
              "      <td>27.0</td>\n",
              "      <td>57.0</td>\n",
              "      <td>41.0</td>\n",
              "      <td>False</td>\n",
              "      <td>2020-11-11</td>\n",
              "      <td>@ICC And still #rajasthanroyals  finished last...</td>\n",
              "      <td>['rajasthanroyals', 'JofraArcher', 'RR', 'jofr...</td>\n",
              "      <td>Twitter for Android</td>\n",
              "      <td>False</td>\n",
              "      <td>11.0</td>\n",
              "      <td>2020.0</td>\n",
              "    </tr>\n",
              "    <tr>\n",
              "      <th>3</th>\n",
              "      <td>Bhumish Patel</td>\n",
              "      <td>Montreal Canada</td>\n",
              "      <td>Student at Concordia University, Montreal, CA\\...</td>\n",
              "      <td>04/07/13 16:24</td>\n",
              "      <td>131.0</td>\n",
              "      <td>1525.0</td>\n",
              "      <td>10343.0</td>\n",
              "      <td>False</td>\n",
              "      <td>2020-11-11</td>\n",
              "      <td>I still remember the bus parade after @mipalta...</td>\n",
              "      <td>NaN</td>\n",
              "      <td>Twitter Web App</td>\n",
              "      <td>False</td>\n",
              "      <td>11.0</td>\n",
              "      <td>2020.0</td>\n",
              "    </tr>\n",
              "    <tr>\n",
              "      <th>4</th>\n",
              "      <td>cricket22yards</td>\n",
              "      <td>NaN</td>\n",
              "      <td>We are a cricketing blog highly focusing on th...</td>\n",
              "      <td>02/09/16 19:14</td>\n",
              "      <td>551.0</td>\n",
              "      <td>189.0</td>\n",
              "      <td>160.0</td>\n",
              "      <td>False</td>\n",
              "      <td>2020-11-11</td>\n",
              "      <td>#IPL2020 \\n\\nSTATS: Most runs, fastest fifties...</td>\n",
              "      <td>['IPL2020']</td>\n",
              "      <td>Twitter Web App</td>\n",
              "      <td>False</td>\n",
              "      <td>11.0</td>\n",
              "      <td>2020.0</td>\n",
              "    </tr>\n",
              "  </tbody>\n",
              "</table>\n",
              "</div>\n",
              "    <div class=\"colab-df-buttons\">\n",
              "\n",
              "  <div class=\"colab-df-container\">\n",
              "    <button class=\"colab-df-convert\" onclick=\"convertToInteractive('df-c6e8ec1e-e314-45ee-ae9f-303193eb5e97')\"\n",
              "            title=\"Convert this dataframe to an interactive table.\"\n",
              "            style=\"display:none;\">\n",
              "\n",
              "  <svg xmlns=\"http://www.w3.org/2000/svg\" height=\"24px\" viewBox=\"0 -960 960 960\">\n",
              "    <path d=\"M120-120v-720h720v720H120Zm60-500h600v-160H180v160Zm220 220h160v-160H400v160Zm0 220h160v-160H400v160ZM180-400h160v-160H180v160Zm440 0h160v-160H620v160ZM180-180h160v-160H180v160Zm440 0h160v-160H620v160Z\"/>\n",
              "  </svg>\n",
              "    </button>\n",
              "\n",
              "  <style>\n",
              "    .colab-df-container {\n",
              "      display:flex;\n",
              "      gap: 12px;\n",
              "    }\n",
              "\n",
              "    .colab-df-convert {\n",
              "      background-color: #E8F0FE;\n",
              "      border: none;\n",
              "      border-radius: 50%;\n",
              "      cursor: pointer;\n",
              "      display: none;\n",
              "      fill: #1967D2;\n",
              "      height: 32px;\n",
              "      padding: 0 0 0 0;\n",
              "      width: 32px;\n",
              "    }\n",
              "\n",
              "    .colab-df-convert:hover {\n",
              "      background-color: #E2EBFA;\n",
              "      box-shadow: 0px 1px 2px rgba(60, 64, 67, 0.3), 0px 1px 3px 1px rgba(60, 64, 67, 0.15);\n",
              "      fill: #174EA6;\n",
              "    }\n",
              "\n",
              "    .colab-df-buttons div {\n",
              "      margin-bottom: 4px;\n",
              "    }\n",
              "\n",
              "    [theme=dark] .colab-df-convert {\n",
              "      background-color: #3B4455;\n",
              "      fill: #D2E3FC;\n",
              "    }\n",
              "\n",
              "    [theme=dark] .colab-df-convert:hover {\n",
              "      background-color: #434B5C;\n",
              "      box-shadow: 0px 1px 3px 1px rgba(0, 0, 0, 0.15);\n",
              "      filter: drop-shadow(0px 1px 2px rgba(0, 0, 0, 0.3));\n",
              "      fill: #FFFFFF;\n",
              "    }\n",
              "  </style>\n",
              "\n",
              "    <script>\n",
              "      const buttonEl =\n",
              "        document.querySelector('#df-c6e8ec1e-e314-45ee-ae9f-303193eb5e97 button.colab-df-convert');\n",
              "      buttonEl.style.display =\n",
              "        google.colab.kernel.accessAllowed ? 'block' : 'none';\n",
              "\n",
              "      async function convertToInteractive(key) {\n",
              "        const element = document.querySelector('#df-c6e8ec1e-e314-45ee-ae9f-303193eb5e97');\n",
              "        const dataTable =\n",
              "          await google.colab.kernel.invokeFunction('convertToInteractive',\n",
              "                                                    [key], {});\n",
              "        if (!dataTable) return;\n",
              "\n",
              "        const docLinkHtml = 'Like what you see? Visit the ' +\n",
              "          '<a target=\"_blank\" href=https://colab.research.google.com/notebooks/data_table.ipynb>data table notebook</a>'\n",
              "          + ' to learn more about interactive tables.';\n",
              "        element.innerHTML = '';\n",
              "        dataTable['output_type'] = 'display_data';\n",
              "        await google.colab.output.renderOutput(dataTable, element);\n",
              "        const docLink = document.createElement('div');\n",
              "        docLink.innerHTML = docLinkHtml;\n",
              "        element.appendChild(docLink);\n",
              "      }\n",
              "    </script>\n",
              "  </div>\n",
              "\n",
              "\n",
              "<div id=\"df-d91acb22-8a92-48f4-9712-5908ae76e211\">\n",
              "  <button class=\"colab-df-quickchart\" onclick=\"quickchart('df-d91acb22-8a92-48f4-9712-5908ae76e211')\"\n",
              "            title=\"Suggest charts\"\n",
              "            style=\"display:none;\">\n",
              "\n",
              "<svg xmlns=\"http://www.w3.org/2000/svg\" height=\"24px\"viewBox=\"0 0 24 24\"\n",
              "     width=\"24px\">\n",
              "    <g>\n",
              "        <path d=\"M19 3H5c-1.1 0-2 .9-2 2v14c0 1.1.9 2 2 2h14c1.1 0 2-.9 2-2V5c0-1.1-.9-2-2-2zM9 17H7v-7h2v7zm4 0h-2V7h2v10zm4 0h-2v-4h2v4z\"/>\n",
              "    </g>\n",
              "</svg>\n",
              "  </button>\n",
              "\n",
              "<style>\n",
              "  .colab-df-quickchart {\n",
              "      --bg-color: #E8F0FE;\n",
              "      --fill-color: #1967D2;\n",
              "      --hover-bg-color: #E2EBFA;\n",
              "      --hover-fill-color: #174EA6;\n",
              "      --disabled-fill-color: #AAA;\n",
              "      --disabled-bg-color: #DDD;\n",
              "  }\n",
              "\n",
              "  [theme=dark] .colab-df-quickchart {\n",
              "      --bg-color: #3B4455;\n",
              "      --fill-color: #D2E3FC;\n",
              "      --hover-bg-color: #434B5C;\n",
              "      --hover-fill-color: #FFFFFF;\n",
              "      --disabled-bg-color: #3B4455;\n",
              "      --disabled-fill-color: #666;\n",
              "  }\n",
              "\n",
              "  .colab-df-quickchart {\n",
              "    background-color: var(--bg-color);\n",
              "    border: none;\n",
              "    border-radius: 50%;\n",
              "    cursor: pointer;\n",
              "    display: none;\n",
              "    fill: var(--fill-color);\n",
              "    height: 32px;\n",
              "    padding: 0;\n",
              "    width: 32px;\n",
              "  }\n",
              "\n",
              "  .colab-df-quickchart:hover {\n",
              "    background-color: var(--hover-bg-color);\n",
              "    box-shadow: 0 1px 2px rgba(60, 64, 67, 0.3), 0 1px 3px 1px rgba(60, 64, 67, 0.15);\n",
              "    fill: var(--button-hover-fill-color);\n",
              "  }\n",
              "\n",
              "  .colab-df-quickchart-complete:disabled,\n",
              "  .colab-df-quickchart-complete:disabled:hover {\n",
              "    background-color: var(--disabled-bg-color);\n",
              "    fill: var(--disabled-fill-color);\n",
              "    box-shadow: none;\n",
              "  }\n",
              "\n",
              "  .colab-df-spinner {\n",
              "    border: 2px solid var(--fill-color);\n",
              "    border-color: transparent;\n",
              "    border-bottom-color: var(--fill-color);\n",
              "    animation:\n",
              "      spin 1s steps(1) infinite;\n",
              "  }\n",
              "\n",
              "  @keyframes spin {\n",
              "    0% {\n",
              "      border-color: transparent;\n",
              "      border-bottom-color: var(--fill-color);\n",
              "      border-left-color: var(--fill-color);\n",
              "    }\n",
              "    20% {\n",
              "      border-color: transparent;\n",
              "      border-left-color: var(--fill-color);\n",
              "      border-top-color: var(--fill-color);\n",
              "    }\n",
              "    30% {\n",
              "      border-color: transparent;\n",
              "      border-left-color: var(--fill-color);\n",
              "      border-top-color: var(--fill-color);\n",
              "      border-right-color: var(--fill-color);\n",
              "    }\n",
              "    40% {\n",
              "      border-color: transparent;\n",
              "      border-right-color: var(--fill-color);\n",
              "      border-top-color: var(--fill-color);\n",
              "    }\n",
              "    60% {\n",
              "      border-color: transparent;\n",
              "      border-right-color: var(--fill-color);\n",
              "    }\n",
              "    80% {\n",
              "      border-color: transparent;\n",
              "      border-right-color: var(--fill-color);\n",
              "      border-bottom-color: var(--fill-color);\n",
              "    }\n",
              "    90% {\n",
              "      border-color: transparent;\n",
              "      border-bottom-color: var(--fill-color);\n",
              "    }\n",
              "  }\n",
              "</style>\n",
              "\n",
              "  <script>\n",
              "    async function quickchart(key) {\n",
              "      const quickchartButtonEl =\n",
              "        document.querySelector('#' + key + ' button');\n",
              "      quickchartButtonEl.disabled = true;  // To prevent multiple clicks.\n",
              "      quickchartButtonEl.classList.add('colab-df-spinner');\n",
              "      try {\n",
              "        const charts = await google.colab.kernel.invokeFunction(\n",
              "            'suggestCharts', [key], {});\n",
              "      } catch (error) {\n",
              "        console.error('Error during call to suggestCharts:', error);\n",
              "      }\n",
              "      quickchartButtonEl.classList.remove('colab-df-spinner');\n",
              "      quickchartButtonEl.classList.add('colab-df-quickchart-complete');\n",
              "    }\n",
              "    (() => {\n",
              "      let quickchartButtonEl =\n",
              "        document.querySelector('#df-d91acb22-8a92-48f4-9712-5908ae76e211 button');\n",
              "      quickchartButtonEl.style.display =\n",
              "        google.colab.kernel.accessAllowed ? 'block' : 'none';\n",
              "    })();\n",
              "  </script>\n",
              "</div>\n",
              "\n",
              "    </div>\n",
              "  </div>\n"
            ],
            "text/plain": [
              "              user_name                   user_location  \\\n",
              "0    GAURAV DHANAWAT 🇮🇳                     Delhi,India   \n",
              "1  🇮🇳🇮🇳 शुभम दोहरे 🇮🇳🇮🇳                   Bhopal, India   \n",
              "2         Steven Gordon  Carrickfergus, Northern Irelan   \n",
              "3         Bhumish Patel                 Montreal Canada   \n",
              "4        cricket22yards                             NaN   \n",
              "\n",
              "                                    user_description    user_created  \\\n",
              "0  Live EVS Operator/Coordinator | EX Ten Sports ...  02/04/09 17:06   \n",
              "1  👉💯%Bhopali😎\\n👉B+🔥\\n👉Proud to be an #indian🇮🇳\\n...   10/11/16 5:09   \n",
              "2  Buns are good but puns are better, best served...  03/04/13 15:03   \n",
              "3  Student at Concordia University, Montreal, CA\\...  04/07/13 16:24   \n",
              "4  We are a cricketing blog highly focusing on th...  02/09/16 19:14   \n",
              "\n",
              "   user_followers  user_friends  user_favourites  user_verified        date  \\\n",
              "0           147.0         127.0            205.0          False  2020-11-11   \n",
              "1           113.0         699.0           1412.0          False  2020-11-11   \n",
              "2            27.0          57.0             41.0          False  2020-11-11   \n",
              "3           131.0        1525.0          10343.0          False  2020-11-11   \n",
              "4           551.0         189.0            160.0          False  2020-11-11   \n",
              "\n",
              "                                                text  \\\n",
              "0  Time to change the Bubble from #IPL2020 to #IS...   \n",
              "1  Why is #2020Fixing trending?? \\n\\nI think rcb ...   \n",
              "2  @ICC And still #rajasthanroyals  finished last...   \n",
              "3  I still remember the bus parade after @mipalta...   \n",
              "4  #IPL2020 \\n\\nSTATS: Most runs, fastest fifties...   \n",
              "\n",
              "                                            hashtags               source  \\\n",
              "0                             ['IPL2020', 'ISL2020']   Twitter for iPhone   \n",
              "1                                     ['2020Fixing']  Twitter for Android   \n",
              "2  ['rajasthanroyals', 'JofraArcher', 'RR', 'jofr...  Twitter for Android   \n",
              "3                                                NaN      Twitter Web App   \n",
              "4                                        ['IPL2020']      Twitter Web App   \n",
              "\n",
              "  is_retweet  month    year  \n",
              "0      False   11.0  2020.0  \n",
              "1      False   11.0  2020.0  \n",
              "2      False   11.0  2020.0  \n",
              "3      False   11.0  2020.0  \n",
              "4      False   11.0  2020.0  "
            ]
          },
          "execution_count": 7,
          "metadata": {},
          "output_type": "execute_result"
        }
      ],
      "source": [
        "dataset.head()"
      ]
    },
    {
      "cell_type": "code",
      "execution_count": null,
      "metadata": {
        "id": "Brn3H_RfN-oX"
      },
      "outputs": [],
      "source": [
        "dataset['cleaned_tweet'] = dataset['text'].apply(lambda x: x.lower() if isinstance(x, str) else '')\n"
      ]
    },
    {
      "cell_type": "code",
      "execution_count": null,
      "metadata": {
        "id": "pH2n_BWXOBGX"
      },
      "outputs": [],
      "source": [
        "dataset['cleaned_tweet'] = dataset['cleaned_tweet'].apply(lambda x: re.sub(r'http\\S+|www\\S+|https\\S+', '', x, flags=re.MULTILINE) if isinstance(x, str) else '')\n"
      ]
    },
    {
      "cell_type": "code",
      "execution_count": null,
      "metadata": {
        "id": "vGrzbbqIOX8b"
      },
      "outputs": [],
      "source": [
        "dataset['cleaned_tweet'] = dataset['cleaned_tweet'].apply(lambda x: re.sub(r'@\\S+|#\\S+', '', x) if isinstance(x, str) else '')\n"
      ]
    },
    {
      "cell_type": "code",
      "execution_count": null,
      "metadata": {
        "id": "is4Aj73UOdZr"
      },
      "outputs": [],
      "source": [
        "dataset['cleaned_tweet'] = dataset['cleaned_tweet'].apply(lambda x: x.translate(str.maketrans('', '', string.punctuation)) if isinstance(x, str) else '')\n"
      ]
    },
    {
      "cell_type": "code",
      "execution_count": null,
      "metadata": {
        "id": "VBE2xPlLOfSY"
      },
      "outputs": [],
      "source": [
        "dataset['tokenized_tweet'] = dataset['cleaned_tweet'].apply(lambda x: word_tokenize(x) if isinstance(x, str) else [])"
      ]
    },
    {
      "cell_type": "code",
      "execution_count": null,
      "metadata": {
        "colab": {
          "background_save": true,
          "base_uri": "https://localhost:8080/",
          "height": 521
        },
        "id": "Mw6VkbhUONgZ",
        "outputId": "df6a8b8f-7732-487b-ebcd-78ac472019ee"
      },
      "outputs": [
        {
          "data": {
            "image/png": "[encoded data removed]",
            "text/plain": [
              "<Figure size 800x600 with 1 Axes>"
            ]
          },
          "metadata": {},
          "output_type": "display_data"
        }
      ],
      "source": [
        "from textblob import TextBlob\n",
        "\n",
        "def analyze_sentiment(text):\n",
        "    analysis = TextBlob(text)\n",
        "    return analysis.sentiment.polarity\n",
        "\n",
        "dataset['sentiment_score'] = dataset['cleaned_tweet'].apply(analyze_sentiment)\n",
        "\n",
        "positive_tweets = dataset[dataset['sentiment_score'] > 0]\n",
        "negative_tweets = dataset[dataset['sentiment_score'] < 0]\n",
        "\n",
        "total_tweets = len(dataset)\n",
        "positive_percentage = (len(positive_tweets) / total_tweets) * 100\n",
        "negative_percentage = (len(negative_tweets) / total_tweets) * 100\n",
        "\n",
        "labels = ['Positive', 'Negative']\n",
        "sizes = [positive_percentage, negative_percentage]\n",
        "colors = ['Green', 'Red']\n",
        "explode = (0.1, 0)\n",
        "plt.figure(figsize=(8, 6))\n",
        "plt.pie(sizes, explode=explode, labels=labels, colors=colors, autopct='%1.1f%%', shadow=True, startangle=140)\n",
        "plt.title('Percentage of Positive and Negative Tweets')\n",
        "plt.axis('equal')\n",
        "plt.show()\n"
      ]
    },
    {
      "cell_type": "code",
      "execution_count": null,
      "metadata": {
        "colab": {
          "base_uri": "https://localhost:8080/"
        },
        "id": "WsPFmw72OUvg",
        "outputId": "5650bb79-efde-4e34-dbe0-90cf90e46703"
      },
      "outputs": [
        {
          "name": "stdout",
          "output_type": "stream",
          "text": [
            "Examples of Negative Tweets:\n",
            "Negative Tweet 1: i still remember the bus parade after  won the ipl2019. i went to see the champions after work. 😅  well, a… \n",
            "\n",
            "Negative Tweet 2: the man behind all this i.e.  is you! without your leadership it was almost impossible! take a 🙇‍♀️… \n",
            "\n",
            "Negative Tweet 3: jos buttler prefers opening the batting in t20 cricket - but says it was his idea to move down the order for  in \n",
            "\n",
            "Negative Tweet 4: if you thought the altroz was bad in  then wait till you see what  will be like next year......… \n",
            "\n",
            "Negative Tweet 5:  ji was so true during  final when he said that franchisees are so obsessed with eng and aus… \n",
            "\n",
            "Negative Tweet 6: see, this moron has omitted to mention the name of  chief  in his thanksgiving tweet. this is inten… \n",
            "\n",
            "Negative Tweet 7: why did bcci hold the women’s ipl.. not enough matches.. wasn’t it just a farce..  \n",
            "\n",
            "Negative Tweet 8: \"morgan was habitually consistent rather than frighteningly explosive.\"\n",
            "\n",
            " on england's  star… \n",
            "\n",
            "Negative Tweet 9: “dwayne bravo you are behind me now (about the number of t20 titles), i have to say that on camera,” said… \n",
            "\n",
            "Negative Tweet 10: ipl 2021   \n",
            "csk.                             other teams \n",
            "\n"
          ]
        }
      ],
      "source": [
        "\n",
        "print(\"Examples of Negative Tweets:\")\n",
        "for i, tweet in enumerate(negative_tweets['cleaned_tweet'].head(10), start=1):\n",
        "    print(f\"Negative Tweet {i}: {tweet}\")\n",
        "    print()\n"
      ]
    }
  ],
  "metadata": {
    "colab": {
      "provenance": [],
      "authorship_tag": "ABX9TyM1N4RU27yOfGGleWo+1Ajb",
      "include_colab_link": true
    },
    "kernelspec": {
      "display_name": "Python 3",
      "name": "python3"
    },
    "language_info": {
      "name": "python"
    }
  },
  "nbformat": 4,
  "nbformat_minor": 0
}